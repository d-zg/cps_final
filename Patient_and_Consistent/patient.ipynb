{
 "cells": [
  {
   "cell_type": "code",
   "execution_count": 1,
   "id": "1e58b158-6235-4a24-9aaf-13b1e2ba29c3",
   "metadata": {
    "execution": {
     "iopub.execute_input": "2025-04-10T01:31:55.482297Z",
     "iopub.status.busy": "2025-04-10T01:31:55.481616Z",
     "iopub.status.idle": "2025-04-10T01:32:05.018367Z",
     "shell.execute_reply": "2025-04-10T01:32:05.017588Z",
     "shell.execute_reply.started": "2025-04-10T01:31:55.482271Z"
    }
   },
   "outputs": [
    {
     "name": "stdout",
     "output_type": "stream",
     "text": [
      "Downloading https://www.cs.toronto.edu/~kriz/cifar-10-python.tar.gz to ./data/cifar-10-python.tar.gz\n"
     ]
    },
    {
     "name": "stderr",
     "output_type": "stream",
     "text": [
      "100%|██████████| 170498071/170498071 [00:03<00:00, 51393826.94it/s]\n"
     ]
    },
    {
     "name": "stdout",
     "output_type": "stream",
     "text": [
      "Extracting ./data/cifar-10-python.tar.gz to ./data\n",
      "Files already downloaded and verified\n",
      "Files already downloaded and verified\n",
      "Mixed images shape: torch.Size([64, 3, 32, 32])\n",
      "Lambda: 0.593706996454326\n"
     ]
    }
   ],
   "source": [
    "import torch\n",
    "import torchvision\n",
    "import torchvision.transforms as transforms\n",
    "from torch.utils.data import DataLoader, ConcatDataset\n",
    "import numpy as np\n",
    "\n",
    "# Function to perform mixup on a batch of images and labels.\n",
    "def mixup_data(x, y, alpha=1.0):\n",
    "    \"\"\"Return mixed inputs, paired labels, and mixing coefficient.\"\"\"\n",
    "    if alpha > 0:\n",
    "        lam = np.random.beta(alpha, alpha)\n",
    "    else:\n",
    "        lam = 1.0\n",
    "    batch_size = x.size()[0]\n",
    "    # Generate a random permutation of indices\n",
    "    index = torch.randperm(batch_size)\n",
    "    mixed_x = lam * x + (1 - lam) * x[index, :]\n",
    "    y_a, y_b = y, y[index]\n",
    "    return mixed_x, y_a, y_b, lam\n",
    "\n",
    "# Define several augmentation transforms.\n",
    "transform_a = transforms.Compose([\n",
    "    transforms.RandomCrop(32, padding=4),\n",
    "    transforms.RandomHorizontalFlip(),\n",
    "    transforms.ToTensor(),\n",
    "])\n",
    "\n",
    "transform_b = transforms.Compose([\n",
    "    transforms.ColorJitter(brightness=0.3, contrast=0.3, saturation=0.3),\n",
    "    transforms.RandomRotation(15),\n",
    "    transforms.ToTensor(),\n",
    "])\n",
    "\n",
    "transform_c = transforms.Compose([\n",
    "    transforms.RandomGrayscale(p=0.2),\n",
    "    transforms.RandomAffine(degrees=15, translate=(0.1, 0.1)),\n",
    "    transforms.ToTensor(),\n",
    "])\n",
    "\n",
    "# Load CIFAR-10 with different transforms (each instance is an augmented dataset).\n",
    "dataset_a = torchvision.datasets.CIFAR10(root='./data', train=True, download=True, transform=transform_a)\n",
    "dataset_b = torchvision.datasets.CIFAR10(root='./data', train=True, download=True, transform=transform_b)\n",
    "dataset_c = torchvision.datasets.CIFAR10(root='./data', train=True, download=True, transform=transform_c)\n",
    "\n",
    "# Combine the three augmented datasets into one enriched dataset.\n",
    "enriched_dataset = ConcatDataset([dataset_a, dataset_b, dataset_c])\n",
    "\n",
    "# Define a custom collate function to apply mixup on a batch.\n",
    "def mixup_collate_fn(batch, alpha=0.4):\n",
    "    \"\"\"\n",
    "    Each element in 'batch' is a tuple (image, label).\n",
    "    This function stacks the images and labels, then applies mixup.\n",
    "    \"\"\"\n",
    "    images, labels = zip(*batch)\n",
    "    images = torch.stack(images)\n",
    "    labels = torch.tensor(labels)\n",
    "    mixed_images, labels_a, labels_b, lam = mixup_data(images, labels, alpha)\n",
    "    # For training, you can compute a combined loss:\n",
    "    # loss = lam * criterion(student_output, labels_a) + (1 - lam) * criterion(student_output, labels_b)\n",
    "    return mixed_images, labels_a, labels_b, lam\n",
    "\n",
    "# Create a DataLoader that uses the custom collate function.\n",
    "dataloader = DataLoader(enriched_dataset, batch_size=64, shuffle=True, collate_fn=lambda b: mixup_collate_fn(b, alpha=0.4))\n",
    "\n",
    "# Example: Iterating over one batch and inspecting the shapes.\n",
    "for mixed_images, labels_a, labels_b, lam in dataloader:\n",
    "    print(\"Mixed images shape:\", mixed_images.shape)  # Expected shape: [batch_size, 3, 32, 32]\n",
    "    print(\"Lambda:\", lam)\n",
    "    break\n"
   ]
  }
 ],
 "metadata": {
  "kernelspec": {
   "display_name": "Python 3 (ipykernel)",
   "language": "python",
   "name": "python3"
  },
  "language_info": {
   "codemirror_mode": {
    "name": "ipython",
    "version": 3
   },
   "file_extension": ".py",
   "mimetype": "text/x-python",
   "name": "python",
   "nbconvert_exporter": "python",
   "pygments_lexer": "ipython3",
   "version": "3.11.7"
  }
 },
 "nbformat": 4,
 "nbformat_minor": 5
}
