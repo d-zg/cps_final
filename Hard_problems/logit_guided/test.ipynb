{
 "cells": [
  {
   "cell_type": "code",
   "execution_count": 3,
   "id": "d2e077bd-902e-49cb-9b44-b7d454957852",
   "metadata": {
    "execution": {
     "iopub.execute_input": "2025-04-22T00:26:08.182026Z",
     "iopub.status.busy": "2025-04-22T00:26:08.181530Z",
     "iopub.status.idle": "2025-04-22T00:26:10.227855Z",
     "shell.execute_reply": "2025-04-22T00:26:10.225503Z",
     "shell.execute_reply.started": "2025-04-22T00:26:08.182003Z"
    }
   },
   "outputs": [
    {
     "name": "stdout",
     "output_type": "stream",
     "text": [
      "Files already downloaded and verified\n",
      "Loaded best student model from ./models/cifar10_best_student_model.pth\n",
      "Test Loss: 0.9003\n",
      "Test Accuracy: 76.71%\n"
     ]
    }
   ],
   "source": [
    "import os\n",
    "import torch\n",
    "import torch.nn as nn\n",
    "import torchvision\n",
    "import torchvision.transforms as transforms\n",
    "from torch.utils.data import DataLoader\n",
    "\n",
    "# -------------------------------\n",
    "# Device Configuration\n",
    "# -------------------------------\n",
    "device = torch.device(\"cuda\" if torch.cuda.is_available() else \"cpu\")\n",
    "\n",
    "# -------------------------------\n",
    "# Paths and Checkpoints\n",
    "# -------------------------------\n",
    "best_model_path = \"./models/cifar10_best_student_model.pth\"  # Path to best model checkpoint\n",
    "\n",
    "# -------------------------------\n",
    "# Evaluation Transform and Test Dataset\n",
    "# -------------------------------\n",
    "norm = transforms.Normalize((0.5, 0.5, 0.5), (0.5, 0.5, 0.5))\n",
    "eval_transform = transforms.Compose([\n",
    "    transforms.ToTensor(),\n",
    "    norm\n",
    "])\n",
    "\n",
    "test_dataset = torchvision.datasets.CIFAR10(root='./data', train=False, download=True, transform=eval_transform)\n",
    "test_loader = DataLoader(test_dataset, batch_size=256, shuffle=False, num_workers=2)\n",
    "\n",
    "# -------------------------------\n",
    "# Prepare the Student Model\n",
    "# -------------------------------\n",
    "# Using SqueezeNet1_1 as the student model, adapted for CIFAR-10.\n",
    "student = torchvision.models.squeezenet1_1(pretrained=False)\n",
    "# Modify the classifier to output 10 classes\n",
    "student.classifier[1] = nn.Conv2d(512, 10, kernel_size=(1, 1), stride=(1, 1))\n",
    "student.num_classes = 10\n",
    "student.to(device)\n",
    "\n",
    "# Load the checkpoint for the best student model.\n",
    "if os.path.exists(best_model_path):\n",
    "    student.load_state_dict(torch.load(best_model_path, map_location=device))\n",
    "    print(\"Loaded best student model from\", best_model_path)\n",
    "else:\n",
    "    print(\"Error: Best model checkpoint not found at\", best_model_path)\n",
    "    exit(1)\n",
    "\n",
    "student.eval()  # Set model to evaluation mode\n",
    "\n",
    "# -------------------------------\n",
    "# Define Loss Function (for evaluation)\n",
    "# -------------------------------\n",
    "criterion = nn.CrossEntropyLoss()\n",
    "\n",
    "# -------------------------------\n",
    "# Evaluate the Model on the Test Set\n",
    "# -------------------------------\n",
    "test_loss = 0.0\n",
    "correct = 0\n",
    "total = 0\n",
    "\n",
    "with torch.no_grad():\n",
    "    for inputs, labels in test_loader:\n",
    "        inputs, labels = inputs.to(device), labels.to(device)\n",
    "        outputs = student(inputs)\n",
    "        loss = criterion(outputs, labels)\n",
    "        test_loss += loss.item() * inputs.size(0)\n",
    "        \n",
    "        # Compute predictions\n",
    "        _, predicted = outputs.max(1)\n",
    "        total += labels.size(0)\n",
    "        correct += predicted.eq(labels).sum().item()\n",
    "\n",
    "avg_loss = test_loss / total\n",
    "accuracy = 100. * correct / total\n",
    "\n",
    "print(\"Test Loss: {:.4f}\".format(avg_loss))\n",
    "print(\"Test Accuracy: {:.2f}%\".format(accuracy))\n"
   ]
  }
 ],
 "metadata": {
  "kernelspec": {
   "display_name": "Python 3 (ipykernel)",
   "language": "python",
   "name": "python3"
  },
  "language_info": {
   "codemirror_mode": {
    "name": "ipython",
    "version": 3
   },
   "file_extension": ".py",
   "mimetype": "text/x-python",
   "name": "python",
   "nbconvert_exporter": "python",
   "pygments_lexer": "ipython3",
   "version": "3.11.7"
  }
 },
 "nbformat": 4,
 "nbformat_minor": 5
}
