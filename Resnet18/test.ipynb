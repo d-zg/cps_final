{
 "cells": [
  {
   "cell_type": "code",
   "execution_count": 1,
   "id": "580dffd5-37a1-4cb2-b490-1c5cbf060ed4",
   "metadata": {
    "execution": {
     "iopub.execute_input": "2025-04-21T21:41:49.229675Z",
     "iopub.status.busy": "2025-04-21T21:41:49.229134Z",
     "iopub.status.idle": "2025-04-21T21:41:58.897752Z",
     "shell.execute_reply": "2025-04-21T21:41:58.896734Z",
     "shell.execute_reply.started": "2025-04-21T21:41:49.229651Z"
    }
   },
   "outputs": [
    {
     "name": "stdout",
     "output_type": "stream",
     "text": [
      "Files already downloaded and verified\n",
      "Test Loss: 0.6922\n",
      "Test Accuracy: 81.23%\n"
     ]
    }
   ],
   "source": [
    "import torch\n",
    "import torch.nn as nn\n",
    "import torchvision\n",
    "import torchvision.transforms as transforms\n",
    "from torch.utils.data import DataLoader\n",
    "\n",
    "# ---- Config ----\n",
    "device = torch.device(\"cuda\" if torch.cuda.is_available() else \"cpu\")\n",
    "batch_size = 256\n",
    "num_workers = 2\n",
    "best_model_path = \"./models/cifar10_best_model\"   # path you used in training\n",
    "\n",
    "# ---- Data ----\n",
    "transform = transforms.Compose([\n",
    "    transforms.ToTensor(),\n",
    "    transforms.Normalize((0.5, 0.5, 0.5), (0.5, 0.5, 0.5))\n",
    "])\n",
    "testset = torchvision.datasets.CIFAR10(\n",
    "    root='./data', train=False, download=True, transform=transform\n",
    ")\n",
    "test_loader = DataLoader(\n",
    "    testset, batch_size=batch_size, shuffle=False, num_workers=num_workers\n",
    ")\n",
    "\n",
    "# ---- Model Definition ----\n",
    "model = torchvision.models.resnet18(weights=None)\n",
    "# match your training modifications:\n",
    "model.conv1 = nn.Conv2d(3, 64, kernel_size=3, stride=1, padding=1, bias=False)\n",
    "model.maxpool = nn.Identity()\n",
    "num_ftrs = model.fc.in_features\n",
    "model.fc = nn.Linear(num_ftrs, 10)\n",
    "\n",
    "# ---- Load Checkpoint ----\n",
    "state = torch.load(best_model_path, map_location=device)\n",
    "model.load_state_dict(state)\n",
    "model.to(device)\n",
    "model.eval()\n",
    "\n",
    "# ---- Evaluation ----\n",
    "criterion = nn.CrossEntropyLoss()\n",
    "running_loss = 0.0\n",
    "correct = 0\n",
    "total = 0\n",
    "\n",
    "with torch.no_grad():\n",
    "    for inputs, labels in test_loader:\n",
    "        inputs, labels = inputs.to(device), labels.to(device)\n",
    "        outputs = model(inputs)\n",
    "        loss = criterion(outputs, labels)\n",
    "\n",
    "        running_loss += loss.item() * inputs.size(0)\n",
    "        _, preds = outputs.max(1)\n",
    "        total += labels.size(0)\n",
    "        correct += preds.eq(labels).sum().item()\n",
    "\n",
    "test_loss = running_loss / total\n",
    "test_acc = 100. * correct / total\n",
    "\n",
    "print(f\"Test Loss: {test_loss:.4f}\")\n",
    "print(f\"Test Accuracy: {test_acc:.2f}%\")\n"
   ]
  }
 ],
 "metadata": {
  "kernelspec": {
   "display_name": "Python 3 (ipykernel)",
   "language": "python",
   "name": "python3"
  },
  "language_info": {
   "codemirror_mode": {
    "name": "ipython",
    "version": 3
   },
   "file_extension": ".py",
   "mimetype": "text/x-python",
   "name": "python",
   "nbconvert_exporter": "python",
   "pygments_lexer": "ipython3",
   "version": "3.11.7"
  }
 },
 "nbformat": 4,
 "nbformat_minor": 5
}
